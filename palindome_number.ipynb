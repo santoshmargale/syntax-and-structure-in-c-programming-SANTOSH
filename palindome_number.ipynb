{
  "nbformat": 4,
  "nbformat_minor": 0,
  "metadata": {
    "colab": {
      "provenance": [],
      "authorship_tag": "ABX9TyNT0TNrQbqFLvEgqJvEGpe2",
      "include_colab_link": true
    },
    "kernelspec": {
      "name": "python3",
      "display_name": "Python 3"
    },
    "language_info": {
      "name": "python"
    }
  },
  "cells": [
    {
      "cell_type": "markdown",
      "metadata": {
        "id": "view-in-github",
        "colab_type": "text"
      },
      "source": [
        "<a href=\"https://colab.research.google.com/github/santoshmargale/syntax-and-structure-in-c-programming-SANTOSH/blob/main/palindome_number.ipynb\" target=\"_parent\"><img src=\"https://colab.research.google.com/assets/colab-badge.svg\" alt=\"Open In Colab\"/></a>"
      ]
    },
    {
      "cell_type": "code",
      "execution_count": null,
      "metadata": {
        "colab": {
          "base_uri": "https://localhost:8080/"
        },
        "id": "I3Cotl8IDPL0",
        "outputId": "10485cc1-6af6-450d-e754-d73fa281519f"
      },
      "outputs": [
        {
          "output_type": "stream",
          "name": "stdout",
          "text": [
            "Enter a number: 1441\n",
            "1441 is a palindrome\n"
          ]
        }
      ],
      "source": [
        "def is_palindrome(num):\n",
        "    original_num = num\n",
        "    reverse_num = 0\n",
        "\n",
        "    while num > 0:\n",
        "        remainder = num % 10\n",
        "        reverse_num = reverse_num * 10 + remainder\n",
        "        num = num // 10\n",
        "\n",
        "    if original_num == reverse_num:\n",
        "        return True\n",
        "    else:\n",
        "        return False\n",
        "\n",
        "num = int(input(\"Enter a number: \"))\n",
        "if is_palindrome(num):\n",
        "    print(f\"{num} is a palindrome\")\n",
        "else:\n",
        "    print(f\"{num} is not a palindrome\")\n",
        "\n",
        "\n",
        "\n",
        "\n",
        "\n"
      ]
    }
  ]
}